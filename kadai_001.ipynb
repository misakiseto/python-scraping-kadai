{
  "nbformat": 4,
  "nbformat_minor": 0,
  "metadata": {
    "colab": {
      "provenance": []
    },
    "kernelspec": {
      "name": "python3",
      "display_name": "Python 3"
    },
    "language_info": {
      "name": "python"
    }
  },
  "cells": [
    {
      "cell_type": "code",
      "source": [
        "pip install requests beautifulsoup4"
      ],
      "metadata": {
        "colab": {
          "base_uri": "https://localhost:8080/"
        },
        "id": "a030Qmrk-Ape",
        "outputId": "d115983c-520c-40cd-fdb4-9ca34b533956"
      },
      "execution_count": null,
      "outputs": [
        {
          "output_type": "stream",
          "name": "stdout",
          "text": [
            "Requirement already satisfied: requests in /usr/local/lib/python3.10/dist-packages (2.32.3)\n",
            "Requirement already satisfied: beautifulsoup4 in /usr/local/lib/python3.10/dist-packages (4.12.3)\n",
            "Requirement already satisfied: charset-normalizer<4,>=2 in /usr/local/lib/python3.10/dist-packages (from requests) (3.3.2)\n",
            "Requirement already satisfied: idna<4,>=2.5 in /usr/local/lib/python3.10/dist-packages (from requests) (3.8)\n",
            "Requirement already satisfied: urllib3<3,>=1.21.1 in /usr/local/lib/python3.10/dist-packages (from requests) (2.0.7)\n",
            "Requirement already satisfied: certifi>=2017.4.17 in /usr/local/lib/python3.10/dist-packages (from requests) (2024.8.30)\n",
            "Requirement already satisfied: soupsieve>1.2 in /usr/local/lib/python3.10/dist-packages (from beautifulsoup4) (2.6)\n"
          ]
        }
      ]
    },
    {
      "cell_type": "code",
      "source": [
        "#uamods > header > p\n",
        "\n",
        "import requests\n",
        "from bs4 import BeautifulSoup\n",
        "\n",
        "url = \"https://news.yahoo.co.jp/articles/97ec8e1d31e92e1472277ce4457091f90365b872\"\n",
        "\n",
        "response = requests.get(url)\n",
        "\n",
        "soup = BeautifulSoup(response.text,\"html.parser\")\n",
        "\n",
        "article_paragraphs = soup.select_one(\".article_body > div > p\")\n",
        "\n",
        "title_text = article_paragraphs.text\n",
        "\n",
        "print(title_text)\n"
      ],
      "metadata": {
        "colab": {
          "base_uri": "https://localhost:8080/"
        },
        "id": "sbOT2gQs-ZJ2",
        "outputId": "00f6b5e3-f413-490f-b51d-8f67d42c1fae"
      },
      "execution_count": null,
      "outputs": [
        {
          "output_type": "stream",
          "name": "stdout",
          "text": [
            "　【ワシントン時事】米ホワイトハウスは12日、日本と米国、オーストラリア、インド4カ国の連携枠組み「クアッド」の首脳会議を21日に米東部デラウェア州ウィルミントンで開催すると発表した。\n",
            "\n",
            "【ひと目でわかる】中国をにらんだ米同盟網の多層化\n",
            "\n",
            "　同地はバイデン大統領の地元で私邸がある。\n",
            "\n",
            "　首脳会議には、バイデン氏のほか、岸田文雄首相、アルバニージー豪首相、モディ印首相が出席する。中国が経済的威圧を強めていることを念頭に「自由で開かれたインド太平洋」実現に向け、連携強化を確認する。\n",
            "\n",
            "　バイデン氏が外国首脳をウィルミントンに招いて会議を開くのは初めてで、ホワイトハウスは「クアッド首脳との深い人間関係を反映している」と説明。会議は今年、インドで開催予定だったが、今月下旬にニューヨークで開かれる国連総会に合わせて米国開催に変更された。　\n"
          ]
        }
      ]
    }
  ]
}